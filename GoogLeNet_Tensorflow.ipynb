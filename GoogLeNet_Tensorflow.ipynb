{
  "nbformat": 4,
  "nbformat_minor": 0,
  "metadata": {
    "colab": {
      "name": "GoogLeNet_Tensorflow.ipynb",
      "provenance": [],
      "collapsed_sections": []
    },
    "kernelspec": {
      "name": "python3",
      "display_name": "Python 3"
    },
    "accelerator": "GPU"
  },
  "cells": [
    {
      "cell_type": "code",
      "metadata": {
        "id": "CXt05UtlLUcz"
      },
      "source": [
        "import tensorflow as tf\n",
        "import matplotlib.pyplot as plt\n",
        "from tensorflow.keras import datasets, layers, models, losses, Model"
      ],
      "execution_count": 1,
      "outputs": []
    },
    {
      "cell_type": "code",
      "metadata": {
        "id": "baxvTVSQLcC9",
        "colab": {
          "base_uri": "https://localhost:8080/"
        },
        "outputId": "68385122-0c74-4a8d-89fa-fd29bc3117c3"
      },
      "source": [
        "(x_train, y_train), (x_test, y_test)=tf.keras.datasets.mnist.load_data()\n",
        "x_train = tf.pad(x_train, [[0, 0], [2,2], [2,2]])/255\n",
        "x_test = tf.pad(x_test, [[0, 0], [2,2], [2,2]])/255\n",
        "x_train = tf.expand_dims(x_train, axis=3, name=None)\n",
        "x_test = tf.expand_dims(x_test, axis=3, name=None)\n",
        "x_train = tf.repeat(x_train, 3, axis=3)\n",
        "x_test = tf.repeat(x_test, 3, axis=3)\n",
        "x_val = x_train[-2000:,:,:]\n",
        "y_val = y_train[-2000:]\n",
        "x_train = x_train[:-2000,:,:]\n",
        "y_train = y_train[:-2000]"
      ],
      "execution_count": 2,
      "outputs": [
        {
          "output_type": "stream",
          "name": "stdout",
          "text": [
            "Downloading data from https://storage.googleapis.com/tensorflow/tf-keras-datasets/mnist.npz\n",
            "11493376/11490434 [==============================] - 0s 0us/step\n",
            "11501568/11490434 [==============================] - 0s 0us/step\n"
          ]
        }
      ]
    },
    {
      "cell_type": "code",
      "metadata": {
        "id": "6wKcYCdaLcFU"
      },
      "source": [
        "def inception(x,\n",
        "              filters_1x1,\n",
        "              filters_3x3_reduce,\n",
        "              filters_3x3,\n",
        "              filters_5x5_reduce,\n",
        "              filters_5x5,\n",
        "              filters_pool):\n",
        "  path1 = layers.Conv2D(filters_1x1, (1, 1), padding='same', activation='relu')(x)\n",
        "\n",
        "  path2 = layers.Conv2D(filters_3x3_reduce, (1, 1), padding='same', activation='relu')(x)\n",
        "  path2 = layers.Conv2D(filters_3x3, (1, 1), padding='same', activation='relu')(path2)\n",
        "\n",
        "  path3 = layers.Conv2D(filters_5x5_reduce, (1, 1), padding='same', activation='relu')(x)\n",
        "  path3 = layers.Conv2D(filters_5x5, (1, 1), padding='same', activation='relu')(path3)\n",
        "\n",
        "  path4 = layers.MaxPool2D((3, 3), strides=(1, 1), padding='same')(x)\n",
        "  path4 = layers.Conv2D(filters_pool, (1, 1), padding='same', activation='relu')(path4)\n",
        "\n",
        "  return tf.concat([path1, path2, path3, path4], axis=3)"
      ],
      "execution_count": 4,
      "outputs": []
    },
    {
      "cell_type": "code",
      "metadata": {
        "id": "nDEI1TMtLcHq"
      },
      "source": [
        "inp = layers.Input(shape=(32, 32, 3))\n",
        "input_tensor = layers.experimental.preprocessing.Resizing(224, 224, interpolation=\"bilinear\", input_shape=x_train.shape[1:])(inp)\n",
        "\n",
        "x = layers.Conv2D(64, 7, strides=2, padding='same', activation='relu')(input_tensor)\n",
        "x = layers.MaxPooling2D(3, strides=2)(x)\n",
        "\n",
        "x = layers.Conv2D(64, 1, strides=1, padding='same', activation='relu')(x)\n",
        "x = layers.Conv2D(192, 3, strides=1, padding='same', activation='relu')(x)\n",
        "\n",
        "x = layers.MaxPooling2D(3, strides=2)(x)\n",
        "\n",
        "x = inception(x,\n",
        "              filters_1x1=64,\n",
        "              filters_3x3_reduce=96,\n",
        "              filters_3x3=128,\n",
        "              filters_5x5_reduce=16,\n",
        "              filters_5x5=32,\n",
        "              filters_pool=32)\n",
        "\n",
        "x = inception(x,\n",
        "              filters_1x1=128,\n",
        "              filters_3x3_reduce=128,\n",
        "              filters_3x3=192,\n",
        "              filters_5x5_reduce=32,\n",
        "              filters_5x5=96,\n",
        "              filters_pool=64)\n",
        "\n",
        "x = layers.MaxPooling2D(3, strides=2)(x)\n",
        "\n",
        "x = inception(x,\n",
        "              filters_1x1=192,\n",
        "              filters_3x3_reduce=96,\n",
        "              filters_3x3=208,\n",
        "              filters_5x5_reduce=16,\n",
        "              filters_5x5=48,\n",
        "              filters_pool=64)\n",
        "\n",
        "aux1 = layers.AveragePooling2D((5, 5), strides=3)(x)\n",
        "aux1 = layers.Conv2D(128, 1, padding='same', activation='relu')(aux1)\n",
        "aux1 = layers.Flatten()(aux1)\n",
        "aux1 = layers.Dense(1024, activation='relu')(aux1)\n",
        "aux1 = layers.Dropout(0.7)(aux1)\n",
        "aux1 = layers.Dense(10, activation='softmax')(aux1)\n",
        "\n",
        "x = inception(x,\n",
        "              filters_1x1=160,\n",
        "              filters_3x3_reduce=112,\n",
        "              filters_3x3=224,\n",
        "              filters_5x5_reduce=24,\n",
        "              filters_5x5=64,\n",
        "              filters_pool=64)\n",
        "\n",
        "x = inception(x,\n",
        "              filters_1x1=128,\n",
        "              filters_3x3_reduce=128,\n",
        "              filters_3x3=256,\n",
        "              filters_5x5_reduce=24,\n",
        "              filters_5x5=64,\n",
        "              filters_pool=64)\n",
        "\n",
        "x = inception(x,\n",
        "              filters_1x1=112,\n",
        "              filters_3x3_reduce=144,\n",
        "              filters_3x3=288,\n",
        "              filters_5x5_reduce=32,\n",
        "              filters_5x5=64,\n",
        "              filters_pool=64)\n",
        "\n",
        "aux2 = layers.AveragePooling2D((5, 5), strides=3)(x)\n",
        "aux2 = layers.Conv2D(128, 1, padding='same', activation='relu')(aux2)\n",
        "aux2 = layers.Flatten()(aux2)\n",
        "aux2 = layers.Dense(1024, activation='relu')(aux2)\n",
        "aux2 = layers.Dropout(0.7)(aux2)\n",
        "aux2 = layers.Dense(10, activation='softmax')(aux2)\n",
        "\n",
        "x = inception(x,\n",
        "              filters_1x1=256,\n",
        "              filters_3x3_reduce=160,\n",
        "              filters_3x3=320,\n",
        "              filters_5x5_reduce=32,\n",
        "              filters_5x5=128,\n",
        "              filters_pool=128)\n",
        "\n",
        "x = layers.MaxPooling2D(3, strides=2)(x)\n",
        "\n",
        "x = inception(x,\n",
        "              filters_1x1=256,\n",
        "              filters_3x3_reduce=160,\n",
        "              filters_3x3=320,\n",
        "              filters_5x5_reduce=32,\n",
        "              filters_5x5=128,\n",
        "              filters_pool=128)\n",
        "\n",
        "x = inception(x,\n",
        "              filters_1x1=384,\n",
        "              filters_3x3_reduce=192,\n",
        "              filters_3x3=384,\n",
        "              filters_5x5_reduce=48,\n",
        "              filters_5x5=128,\n",
        "              filters_pool=128)\n",
        "\n",
        "x = layers.GlobalAveragePooling2D()(x)\n",
        "\n",
        "x = layers.Dropout(0.4)(x)\n",
        "out = layers.Dense(10, activation='softmax')(x)"
      ],
      "execution_count": 5,
      "outputs": []
    },
    {
      "cell_type": "code",
      "metadata": {
        "id": "WzIFlLP9LcLQ"
      },
      "source": [
        "model = Model(inputs = inp, outputs = [out, aux1, aux2])"
      ],
      "execution_count": 6,
      "outputs": []
    },
    {
      "cell_type": "code",
      "metadata": {
        "id": "wJjdIxC1aWwO"
      },
      "source": [
        "model.compile(optimizer='adam', loss=[losses.sparse_categorical_crossentropy, losses.sparse_categorical_crossentropy, losses.sparse_categorical_crossentropy], loss_weights=[1, 0.3, 0.3], metrics=['accuracy'])"
      ],
      "execution_count": 7,
      "outputs": []
    },
    {
      "cell_type": "code",
      "metadata": {
        "colab": {
          "base_uri": "https://localhost:8080/"
        },
        "id": "mqFCLsnBxysx",
        "outputId": "caf3eb2b-d7b0-4258-8a0d-75db66cb61aa"
      },
      "source": [
        "model.summary()"
      ],
      "execution_count": 8,
      "outputs": [
        {
          "output_type": "stream",
          "name": "stdout",
          "text": [
            "Model: \"model\"\n",
            "__________________________________________________________________________________________________\n",
            "Layer (type)                    Output Shape         Param #     Connected to                     \n",
            "==================================================================================================\n",
            "input_1 (InputLayer)            [(None, 32, 32, 3)]  0                                            \n",
            "__________________________________________________________________________________________________\n",
            "resizing (Resizing)             (None, 224, 224, 3)  0           input_1[0][0]                    \n",
            "__________________________________________________________________________________________________\n",
            "conv2d (Conv2D)                 (None, 112, 112, 64) 9472        resizing[0][0]                   \n",
            "__________________________________________________________________________________________________\n",
            "max_pooling2d (MaxPooling2D)    (None, 55, 55, 64)   0           conv2d[0][0]                     \n",
            "__________________________________________________________________________________________________\n",
            "conv2d_1 (Conv2D)               (None, 55, 55, 64)   4160        max_pooling2d[0][0]              \n",
            "__________________________________________________________________________________________________\n",
            "conv2d_2 (Conv2D)               (None, 55, 55, 192)  110784      conv2d_1[0][0]                   \n",
            "__________________________________________________________________________________________________\n",
            "max_pooling2d_1 (MaxPooling2D)  (None, 27, 27, 192)  0           conv2d_2[0][0]                   \n",
            "__________________________________________________________________________________________________\n",
            "conv2d_4 (Conv2D)               (None, 27, 27, 96)   18528       max_pooling2d_1[0][0]            \n",
            "__________________________________________________________________________________________________\n",
            "conv2d_6 (Conv2D)               (None, 27, 27, 16)   3088        max_pooling2d_1[0][0]            \n",
            "__________________________________________________________________________________________________\n",
            "max_pooling2d_2 (MaxPooling2D)  (None, 27, 27, 192)  0           max_pooling2d_1[0][0]            \n",
            "__________________________________________________________________________________________________\n",
            "conv2d_3 (Conv2D)               (None, 27, 27, 64)   12352       max_pooling2d_1[0][0]            \n",
            "__________________________________________________________________________________________________\n",
            "conv2d_5 (Conv2D)               (None, 27, 27, 128)  12416       conv2d_4[0][0]                   \n",
            "__________________________________________________________________________________________________\n",
            "conv2d_7 (Conv2D)               (None, 27, 27, 32)   544         conv2d_6[0][0]                   \n",
            "__________________________________________________________________________________________________\n",
            "conv2d_8 (Conv2D)               (None, 27, 27, 32)   6176        max_pooling2d_2[0][0]            \n",
            "__________________________________________________________________________________________________\n",
            "tf.concat (TFOpLambda)          (None, 27, 27, 256)  0           conv2d_3[0][0]                   \n",
            "                                                                 conv2d_5[0][0]                   \n",
            "                                                                 conv2d_7[0][0]                   \n",
            "                                                                 conv2d_8[0][0]                   \n",
            "__________________________________________________________________________________________________\n",
            "conv2d_10 (Conv2D)              (None, 27, 27, 128)  32896       tf.concat[0][0]                  \n",
            "__________________________________________________________________________________________________\n",
            "conv2d_12 (Conv2D)              (None, 27, 27, 32)   8224        tf.concat[0][0]                  \n",
            "__________________________________________________________________________________________________\n",
            "max_pooling2d_3 (MaxPooling2D)  (None, 27, 27, 256)  0           tf.concat[0][0]                  \n",
            "__________________________________________________________________________________________________\n",
            "conv2d_9 (Conv2D)               (None, 27, 27, 128)  32896       tf.concat[0][0]                  \n",
            "__________________________________________________________________________________________________\n",
            "conv2d_11 (Conv2D)              (None, 27, 27, 192)  24768       conv2d_10[0][0]                  \n",
            "__________________________________________________________________________________________________\n",
            "conv2d_13 (Conv2D)              (None, 27, 27, 96)   3168        conv2d_12[0][0]                  \n",
            "__________________________________________________________________________________________________\n",
            "conv2d_14 (Conv2D)              (None, 27, 27, 64)   16448       max_pooling2d_3[0][0]            \n",
            "__________________________________________________________________________________________________\n",
            "tf.concat_1 (TFOpLambda)        (None, 27, 27, 480)  0           conv2d_9[0][0]                   \n",
            "                                                                 conv2d_11[0][0]                  \n",
            "                                                                 conv2d_13[0][0]                  \n",
            "                                                                 conv2d_14[0][0]                  \n",
            "__________________________________________________________________________________________________\n",
            "max_pooling2d_4 (MaxPooling2D)  (None, 13, 13, 480)  0           tf.concat_1[0][0]                \n",
            "__________________________________________________________________________________________________\n",
            "conv2d_16 (Conv2D)              (None, 13, 13, 96)   46176       max_pooling2d_4[0][0]            \n",
            "__________________________________________________________________________________________________\n",
            "conv2d_18 (Conv2D)              (None, 13, 13, 16)   7696        max_pooling2d_4[0][0]            \n",
            "__________________________________________________________________________________________________\n",
            "max_pooling2d_5 (MaxPooling2D)  (None, 13, 13, 480)  0           max_pooling2d_4[0][0]            \n",
            "__________________________________________________________________________________________________\n",
            "conv2d_15 (Conv2D)              (None, 13, 13, 192)  92352       max_pooling2d_4[0][0]            \n",
            "__________________________________________________________________________________________________\n",
            "conv2d_17 (Conv2D)              (None, 13, 13, 208)  20176       conv2d_16[0][0]                  \n",
            "__________________________________________________________________________________________________\n",
            "conv2d_19 (Conv2D)              (None, 13, 13, 48)   816         conv2d_18[0][0]                  \n",
            "__________________________________________________________________________________________________\n",
            "conv2d_20 (Conv2D)              (None, 13, 13, 64)   30784       max_pooling2d_5[0][0]            \n",
            "__________________________________________________________________________________________________\n",
            "tf.concat_2 (TFOpLambda)        (None, 13, 13, 512)  0           conv2d_15[0][0]                  \n",
            "                                                                 conv2d_17[0][0]                  \n",
            "                                                                 conv2d_19[0][0]                  \n",
            "                                                                 conv2d_20[0][0]                  \n",
            "__________________________________________________________________________________________________\n",
            "conv2d_23 (Conv2D)              (None, 13, 13, 112)  57456       tf.concat_2[0][0]                \n",
            "__________________________________________________________________________________________________\n",
            "conv2d_25 (Conv2D)              (None, 13, 13, 24)   12312       tf.concat_2[0][0]                \n",
            "__________________________________________________________________________________________________\n",
            "max_pooling2d_6 (MaxPooling2D)  (None, 13, 13, 512)  0           tf.concat_2[0][0]                \n",
            "__________________________________________________________________________________________________\n",
            "conv2d_22 (Conv2D)              (None, 13, 13, 160)  82080       tf.concat_2[0][0]                \n",
            "__________________________________________________________________________________________________\n",
            "conv2d_24 (Conv2D)              (None, 13, 13, 224)  25312       conv2d_23[0][0]                  \n",
            "__________________________________________________________________________________________________\n",
            "conv2d_26 (Conv2D)              (None, 13, 13, 64)   1600        conv2d_25[0][0]                  \n",
            "__________________________________________________________________________________________________\n",
            "conv2d_27 (Conv2D)              (None, 13, 13, 64)   32832       max_pooling2d_6[0][0]            \n",
            "__________________________________________________________________________________________________\n",
            "tf.concat_3 (TFOpLambda)        (None, 13, 13, 512)  0           conv2d_22[0][0]                  \n",
            "                                                                 conv2d_24[0][0]                  \n",
            "                                                                 conv2d_26[0][0]                  \n",
            "                                                                 conv2d_27[0][0]                  \n",
            "__________________________________________________________________________________________________\n",
            "conv2d_29 (Conv2D)              (None, 13, 13, 128)  65664       tf.concat_3[0][0]                \n",
            "__________________________________________________________________________________________________\n",
            "conv2d_31 (Conv2D)              (None, 13, 13, 24)   12312       tf.concat_3[0][0]                \n",
            "__________________________________________________________________________________________________\n",
            "max_pooling2d_7 (MaxPooling2D)  (None, 13, 13, 512)  0           tf.concat_3[0][0]                \n",
            "__________________________________________________________________________________________________\n",
            "conv2d_28 (Conv2D)              (None, 13, 13, 128)  65664       tf.concat_3[0][0]                \n",
            "__________________________________________________________________________________________________\n",
            "conv2d_30 (Conv2D)              (None, 13, 13, 256)  33024       conv2d_29[0][0]                  \n",
            "__________________________________________________________________________________________________\n",
            "conv2d_32 (Conv2D)              (None, 13, 13, 64)   1600        conv2d_31[0][0]                  \n",
            "__________________________________________________________________________________________________\n",
            "conv2d_33 (Conv2D)              (None, 13, 13, 64)   32832       max_pooling2d_7[0][0]            \n",
            "__________________________________________________________________________________________________\n",
            "tf.concat_4 (TFOpLambda)        (None, 13, 13, 512)  0           conv2d_28[0][0]                  \n",
            "                                                                 conv2d_30[0][0]                  \n",
            "                                                                 conv2d_32[0][0]                  \n",
            "                                                                 conv2d_33[0][0]                  \n",
            "__________________________________________________________________________________________________\n",
            "conv2d_35 (Conv2D)              (None, 13, 13, 144)  73872       tf.concat_4[0][0]                \n",
            "__________________________________________________________________________________________________\n",
            "conv2d_37 (Conv2D)              (None, 13, 13, 32)   16416       tf.concat_4[0][0]                \n",
            "__________________________________________________________________________________________________\n",
            "max_pooling2d_8 (MaxPooling2D)  (None, 13, 13, 512)  0           tf.concat_4[0][0]                \n",
            "__________________________________________________________________________________________________\n",
            "conv2d_34 (Conv2D)              (None, 13, 13, 112)  57456       tf.concat_4[0][0]                \n",
            "__________________________________________________________________________________________________\n",
            "conv2d_36 (Conv2D)              (None, 13, 13, 288)  41760       conv2d_35[0][0]                  \n",
            "__________________________________________________________________________________________________\n",
            "conv2d_38 (Conv2D)              (None, 13, 13, 64)   2112        conv2d_37[0][0]                  \n",
            "__________________________________________________________________________________________________\n",
            "conv2d_39 (Conv2D)              (None, 13, 13, 64)   32832       max_pooling2d_8[0][0]            \n",
            "__________________________________________________________________________________________________\n",
            "tf.concat_5 (TFOpLambda)        (None, 13, 13, 528)  0           conv2d_34[0][0]                  \n",
            "                                                                 conv2d_36[0][0]                  \n",
            "                                                                 conv2d_38[0][0]                  \n",
            "                                                                 conv2d_39[0][0]                  \n",
            "__________________________________________________________________________________________________\n",
            "conv2d_42 (Conv2D)              (None, 13, 13, 160)  84640       tf.concat_5[0][0]                \n",
            "__________________________________________________________________________________________________\n",
            "conv2d_44 (Conv2D)              (None, 13, 13, 32)   16928       tf.concat_5[0][0]                \n",
            "__________________________________________________________________________________________________\n",
            "max_pooling2d_9 (MaxPooling2D)  (None, 13, 13, 528)  0           tf.concat_5[0][0]                \n",
            "__________________________________________________________________________________________________\n",
            "conv2d_41 (Conv2D)              (None, 13, 13, 256)  135424      tf.concat_5[0][0]                \n",
            "__________________________________________________________________________________________________\n",
            "conv2d_43 (Conv2D)              (None, 13, 13, 320)  51520       conv2d_42[0][0]                  \n",
            "__________________________________________________________________________________________________\n",
            "conv2d_45 (Conv2D)              (None, 13, 13, 128)  4224        conv2d_44[0][0]                  \n",
            "__________________________________________________________________________________________________\n",
            "conv2d_46 (Conv2D)              (None, 13, 13, 128)  67712       max_pooling2d_9[0][0]            \n",
            "__________________________________________________________________________________________________\n",
            "tf.concat_6 (TFOpLambda)        (None, 13, 13, 832)  0           conv2d_41[0][0]                  \n",
            "                                                                 conv2d_43[0][0]                  \n",
            "                                                                 conv2d_45[0][0]                  \n",
            "                                                                 conv2d_46[0][0]                  \n",
            "__________________________________________________________________________________________________\n",
            "max_pooling2d_10 (MaxPooling2D) (None, 6, 6, 832)    0           tf.concat_6[0][0]                \n",
            "__________________________________________________________________________________________________\n",
            "conv2d_48 (Conv2D)              (None, 6, 6, 160)    133280      max_pooling2d_10[0][0]           \n",
            "__________________________________________________________________________________________________\n",
            "conv2d_50 (Conv2D)              (None, 6, 6, 32)     26656       max_pooling2d_10[0][0]           \n",
            "__________________________________________________________________________________________________\n",
            "max_pooling2d_11 (MaxPooling2D) (None, 6, 6, 832)    0           max_pooling2d_10[0][0]           \n",
            "__________________________________________________________________________________________________\n",
            "conv2d_47 (Conv2D)              (None, 6, 6, 256)    213248      max_pooling2d_10[0][0]           \n",
            "__________________________________________________________________________________________________\n",
            "conv2d_49 (Conv2D)              (None, 6, 6, 320)    51520       conv2d_48[0][0]                  \n",
            "__________________________________________________________________________________________________\n",
            "conv2d_51 (Conv2D)              (None, 6, 6, 128)    4224        conv2d_50[0][0]                  \n",
            "__________________________________________________________________________________________________\n",
            "conv2d_52 (Conv2D)              (None, 6, 6, 128)    106624      max_pooling2d_11[0][0]           \n",
            "__________________________________________________________________________________________________\n",
            "tf.concat_7 (TFOpLambda)        (None, 6, 6, 832)    0           conv2d_47[0][0]                  \n",
            "                                                                 conv2d_49[0][0]                  \n",
            "                                                                 conv2d_51[0][0]                  \n",
            "                                                                 conv2d_52[0][0]                  \n",
            "__________________________________________________________________________________________________\n",
            "conv2d_54 (Conv2D)              (None, 6, 6, 192)    159936      tf.concat_7[0][0]                \n",
            "__________________________________________________________________________________________________\n",
            "conv2d_56 (Conv2D)              (None, 6, 6, 48)     39984       tf.concat_7[0][0]                \n",
            "__________________________________________________________________________________________________\n",
            "max_pooling2d_12 (MaxPooling2D) (None, 6, 6, 832)    0           tf.concat_7[0][0]                \n",
            "__________________________________________________________________________________________________\n",
            "average_pooling2d (AveragePooli (None, 3, 3, 512)    0           tf.concat_2[0][0]                \n",
            "__________________________________________________________________________________________________\n",
            "average_pooling2d_1 (AveragePoo (None, 3, 3, 528)    0           tf.concat_5[0][0]                \n",
            "__________________________________________________________________________________________________\n",
            "conv2d_53 (Conv2D)              (None, 6, 6, 384)    319872      tf.concat_7[0][0]                \n",
            "__________________________________________________________________________________________________\n",
            "conv2d_55 (Conv2D)              (None, 6, 6, 384)    74112       conv2d_54[0][0]                  \n",
            "__________________________________________________________________________________________________\n",
            "conv2d_57 (Conv2D)              (None, 6, 6, 128)    6272        conv2d_56[0][0]                  \n",
            "__________________________________________________________________________________________________\n",
            "conv2d_58 (Conv2D)              (None, 6, 6, 128)    106624      max_pooling2d_12[0][0]           \n",
            "__________________________________________________________________________________________________\n",
            "conv2d_21 (Conv2D)              (None, 3, 3, 128)    65664       average_pooling2d[0][0]          \n",
            "__________________________________________________________________________________________________\n",
            "conv2d_40 (Conv2D)              (None, 3, 3, 128)    67712       average_pooling2d_1[0][0]        \n",
            "__________________________________________________________________________________________________\n",
            "tf.concat_8 (TFOpLambda)        (None, 6, 6, 1024)   0           conv2d_53[0][0]                  \n",
            "                                                                 conv2d_55[0][0]                  \n",
            "                                                                 conv2d_57[0][0]                  \n",
            "                                                                 conv2d_58[0][0]                  \n",
            "__________________________________________________________________________________________________\n",
            "flatten (Flatten)               (None, 1152)         0           conv2d_21[0][0]                  \n",
            "__________________________________________________________________________________________________\n",
            "flatten_1 (Flatten)             (None, 1152)         0           conv2d_40[0][0]                  \n",
            "__________________________________________________________________________________________________\n",
            "global_average_pooling2d (Globa (None, 1024)         0           tf.concat_8[0][0]                \n",
            "__________________________________________________________________________________________________\n",
            "dense (Dense)                   (None, 1024)         1180672     flatten[0][0]                    \n",
            "__________________________________________________________________________________________________\n",
            "dense_2 (Dense)                 (None, 1024)         1180672     flatten_1[0][0]                  \n",
            "__________________________________________________________________________________________________\n",
            "dropout_2 (Dropout)             (None, 1024)         0           global_average_pooling2d[0][0]   \n",
            "__________________________________________________________________________________________________\n",
            "dropout (Dropout)               (None, 1024)         0           dense[0][0]                      \n",
            "__________________________________________________________________________________________________\n",
            "dropout_1 (Dropout)             (None, 1024)         0           dense_2[0][0]                    \n",
            "__________________________________________________________________________________________________\n",
            "dense_4 (Dense)                 (None, 10)           10250       dropout_2[0][0]                  \n",
            "__________________________________________________________________________________________________\n",
            "dense_1 (Dense)                 (None, 10)           10250       dropout[0][0]                    \n",
            "__________________________________________________________________________________________________\n",
            "dense_3 (Dense)                 (None, 10)           10250       dropout_1[0][0]                  \n",
            "==================================================================================================\n",
            "Total params: 5,269,326\n",
            "Trainable params: 5,269,326\n",
            "Non-trainable params: 0\n",
            "__________________________________________________________________________________________________\n"
          ]
        }
      ]
    },
    {
      "cell_type": "code",
      "metadata": {
        "colab": {
          "base_uri": "https://localhost:8080/"
        },
        "id": "VofnKKKoauYX",
        "outputId": "b469f165-e9ec-4b31-f37f-8711d4918d31"
      },
      "source": [
        "history = model.fit(x_train, [y_train, y_train, y_train], validation_data=(x_val, [y_val, y_val, y_val]), batch_size=400, epochs=5)"
      ],
      "execution_count": 14,
      "outputs": [
        {
          "output_type": "stream",
          "name": "stdout",
          "text": [
            "Epoch 1/5\n",
            "145/145 [==============================] - 333s 2s/step - loss: 2.6695 - dense_4_loss: 1.9471 - dense_1_loss: 1.1539 - dense_3_loss: 1.2540 - dense_4_accuracy: 0.2660 - dense_1_accuracy: 0.5984 - dense_3_accuracy: 0.5560 - val_loss: 1.7354 - val_dense_4_loss: 1.4584 - val_dense_1_loss: 0.4667 - val_dense_3_loss: 0.4567 - val_dense_4_accuracy: 0.4555 - val_dense_1_accuracy: 0.8545 - val_dense_3_accuracy: 0.8590\n",
            "Epoch 2/5\n",
            "145/145 [==============================] - 318s 2s/step - loss: 1.3934 - dense_4_loss: 1.1099 - dense_1_loss: 0.4973 - dense_3_loss: 0.4477 - dense_4_accuracy: 0.6106 - dense_1_accuracy: 0.8331 - dense_3_accuracy: 0.8558 - val_loss: 0.6396 - val_dense_4_loss: 0.4983 - val_dense_1_loss: 0.2447 - val_dense_3_loss: 0.2264 - val_dense_4_accuracy: 0.8680 - val_dense_1_accuracy: 0.9320 - val_dense_3_accuracy: 0.9345\n",
            "Epoch 3/5\n",
            "145/145 [==============================] - 316s 2s/step - loss: 0.4630 - dense_4_loss: 0.3480 - dense_1_loss: 0.1966 - dense_3_loss: 0.1865 - dense_4_accuracy: 0.8928 - dense_1_accuracy: 0.9397 - dense_3_accuracy: 0.9438 - val_loss: 0.2582 - val_dense_4_loss: 0.2009 - val_dense_1_loss: 0.0905 - val_dense_3_loss: 0.1004 - val_dense_4_accuracy: 0.9445 - val_dense_1_accuracy: 0.9775 - val_dense_3_accuracy: 0.9705\n",
            "Epoch 4/5\n",
            "145/145 [==============================] - 316s 2s/step - loss: 0.2635 - dense_4_loss: 0.1896 - dense_1_loss: 0.1230 - dense_3_loss: 0.1233 - dense_4_accuracy: 0.9427 - dense_1_accuracy: 0.9623 - dense_3_accuracy: 0.9619 - val_loss: 0.1328 - val_dense_4_loss: 0.0919 - val_dense_1_loss: 0.0629 - val_dense_3_loss: 0.0737 - val_dense_4_accuracy: 0.9765 - val_dense_1_accuracy: 0.9820 - val_dense_3_accuracy: 0.9820\n",
            "Epoch 5/5\n",
            "145/145 [==============================] - 318s 2s/step - loss: 0.1948 - dense_4_loss: 0.1370 - dense_1_loss: 0.0942 - dense_3_loss: 0.0983 - dense_4_accuracy: 0.9587 - dense_1_accuracy: 0.9708 - dense_3_accuracy: 0.9706 - val_loss: 0.1233 - val_dense_4_loss: 0.0841 - val_dense_1_loss: 0.0691 - val_dense_3_loss: 0.0614 - val_dense_4_accuracy: 0.9770 - val_dense_1_accuracy: 0.9830 - val_dense_3_accuracy: 0.9865\n"
          ]
        }
      ]
    },
    {
      "cell_type": "code",
      "metadata": {
        "colab": {
          "base_uri": "https://localhost:8080/",
          "height": 910
        },
        "id": "53UluuOE5TX_",
        "outputId": "f8ff4993-51f3-41ad-dbc8-73de33f76eac"
      },
      "source": [
        "fig, axs = plt.subplots(2, 1, figsize=(15,15))\n",
        "\n",
        "axs[0].plot(history.history['loss'])\n",
        "axs[0].plot(history.history['val_loss'])\n",
        "axs[0].title.set_text('Training Loss vs Validation Loss')\n",
        "axs[0].set_xlabel('Epochs')\n",
        "axs[0].set_ylabel('Loss')\n",
        "axs[0].legend(['Train','Val'])\n",
        "\n",
        "axs[1].plot(history.history['dense_4_accuracy'])\n",
        "axs[1].plot(history.history['val_dense_4_accuracy'])\n",
        "axs[1].title.set_text('Training Accuracy vs Validation Accuracy')\n",
        "axs[1].set_xlabel('Epochs')\n",
        "axs[1].set_ylabel('Accuracy')\n",
        "axs[1].legend(['Train', 'Val'])"
      ],
      "execution_count": 15,
      "outputs": [
        {
          "output_type": "execute_result",
          "data": {
            "text/plain": [
              "<matplotlib.legend.Legend at 0x7f7f749cd290>"
            ]
          },
          "metadata": {},
          "execution_count": 15
        },
        {
          "output_type": "display_data",
          "data": {
            "image/png": "[encoded data removed]",
            "text/plain": [
              "<Figure size 1080x1080 with 2 Axes>"
            ]
          },
          "metadata": {
            "needs_background": "light"
          }
        }
      ]
    },
    {
      "cell_type": "code",
      "metadata": {
        "colab": {
          "base_uri": "https://localhost:8080/"
        },
        "id": "iNbFiTZW5dQ7",
        "outputId": "a58e6e74-82d9-457f-a72f-f06fec2c71c2"
      },
      "source": [
        "model.evaluate(x_test, y_test)"
      ],
      "execution_count": 16,
      "outputs": [
        {
          "output_type": "stream",
          "name": "stdout",
          "text": [
            "313/313 [==============================] - 25s 72ms/step - loss: 0.1707 - dense_4_loss: 0.1281 - dense_1_loss: 0.0706 - dense_3_loss: 0.0714 - dense_4_accuracy: 0.9617 - dense_1_accuracy: 0.9768 - dense_3_accuracy: 0.9759\n"
          ]
        },
        {
          "output_type": "execute_result",
          "data": {
            "text/plain": [
              "[0.1707184761762619,\n",
              " 0.1281174123287201,\n",
              " 0.07063599675893784,\n",
              " 0.07136707752943039,\n",
              " 0.9617000222206116,\n",
              " 0.9768000245094299,\n",
              " 0.9758999943733215]"
            ]
          },
          "metadata": {},
          "execution_count": 16
        }
      ]
    }
  ]
}